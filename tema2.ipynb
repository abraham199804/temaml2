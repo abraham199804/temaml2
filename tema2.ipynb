{
 "cells": [
  {
   "cell_type": "code",
   "execution_count": 1,
   "metadata": {},
   "outputs": [],
   "source": [
    "import numpy as np"
   ]
  },
  {
   "cell_type": "code",
   "execution_count": 2,
   "metadata": {},
   "outputs": [
    {
     "data": {
      "text/plain": [
       "array([0., 0., 0., 0., 0., 0., 0., 0., 0., 0.])"
      ]
     },
     "execution_count": 2,
     "metadata": {},
     "output_type": "execute_result"
    }
   ],
   "source": [
    "np.zeros(10)"
   ]
  },
  {
   "cell_type": "code",
   "execution_count": 11,
   "metadata": {},
   "outputs": [
    {
     "name": "stdout",
     "output_type": "stream",
     "text": [
      "[10 11 12 13 14 15 16 17 18 19 20 21 22 23 24 25 26 27 28 29 30 31 32 33\n",
      " 34 35 36 37 38 39 40 41 42 43 44 45 46 47 48 49 50 51 52 53 54 55 56 57\n",
      " 58 59 60 61 62 63 64 65 66 67 68 69 70 71 72 73 74 75 76 77 78 79 80 81\n",
      " 82 83 84 85 86 87 88 89 90 91 92 93 94 95 96 97 98 99]\n"
     ]
    }
   ],
   "source": [
    "a=np.arange(10,100)\n",
    "print(a)"
   ]
  },
  {
   "cell_type": "code",
   "execution_count": 12,
   "metadata": {},
   "outputs": [
    {
     "name": "stdout",
     "output_type": "stream",
     "text": [
      "[99 98 97 96 95 94 93 92 91 90 89 88 87 86 85 84 83 82 81 80 79 78 77 76\n",
      " 75 74 73 72 71 70 69 68 67 66 65 64 63 62 61 60 59 58 57 56 55 54 53 52\n",
      " 51 50 49 48 47 46 45 44 43 42 41 40 39 38 37 36 35 34 33 32 31 30 29 28\n",
      " 27 26 25 24 23 22 21 20 19 18 17 16 15 14 13 12 11 10]\n"
     ]
    }
   ],
   "source": [
    "b=np.flip(a,0)\n",
    "print(b)"
   ]
  },
  {
   "cell_type": "code",
   "execution_count": 14,
   "metadata": {},
   "outputs": [
    {
     "name": "stdout",
     "output_type": "stream",
     "text": [
      "[[10 11 12 13 14 15 16 17 18 19 20 21 22 23 24 25 26 27 28 29 30 31 32 33\n",
      "  34 35 36 37 38 39]\n",
      " [40 41 42 43 44 45 46 47 48 49 50 51 52 53 54 55 56 57 58 59 60 61 62 63\n",
      "  64 65 66 67 68 69]\n",
      " [70 71 72 73 74 75 76 77 78 79 80 81 82 83 84 85 86 87 88 89 90 91 92 93\n",
      "  94 95 96 97 98 99]]\n"
     ]
    }
   ],
   "source": [
    "c=a.reshape(3,30)\n",
    "print(c)"
   ]
  },
  {
   "cell_type": "code",
   "execution_count": 19,
   "metadata": {},
   "outputs": [
    {
     "name": "stdout",
     "output_type": "stream",
     "text": [
      "0\n",
      "1\n",
      "2\n",
      "5\n",
      "6\n"
     ]
    }
   ],
   "source": [
    "d=[1,2,9,0,0,1,4,0]\n",
    "for i in np.arange(len(d)):\n",
    "    if d[i] !=0:\n",
    "        print(i)"
   ]
  },
  {
   "cell_type": "code",
   "execution_count": 20,
   "metadata": {},
   "outputs": [
    {
     "name": "stdout",
     "output_type": "stream",
     "text": [
      "[[1. 0. 0.]\n",
      " [0. 1. 0.]\n",
      " [0. 0. 1.]]\n"
     ]
    }
   ],
   "source": [
    "e=np.identity(3)\n",
    "print(e)"
   ]
  },
  {
   "cell_type": "code",
   "execution_count": 22,
   "metadata": {},
   "outputs": [
    {
     "name": "stdout",
     "output_type": "stream",
     "text": [
      "[-0.08320085  0.0527128   0.6203803   0.12224947  0.45956249  0.40631313\n",
      " -0.79534297  0.92046684 -0.99043306  0.68344301  0.88712155 -0.91170298\n",
      "  0.79450399 -0.78126443  0.0198853   0.32132675 -0.37738743  0.2328061\n",
      "  0.70404811 -0.81713259 -0.91729351 -0.96492361 -0.75697094  0.05434206\n",
      " -0.33198805  0.62890509  0.89448118 -0.07290724 -0.84837069 -0.91202855\n",
      " -0.4215639  -0.54926464 -0.21294414 -0.38075298 -0.74656919 -0.1199902\n",
      "  0.85013195 -0.08493124  0.84141422 -0.82797498  0.69070742  0.72704631\n",
      " -0.03403817  0.6174609  -0.62360332 -0.1233209   0.9806064  -0.73977442\n",
      "  0.22409273  0.57852738]\n",
      "-0.022262790188912494\n"
     ]
    }
   ],
   "source": [
    "f = np.random.uniform(-1,1,50)\n",
    "print(f)\n",
    "print(f.mean())"
   ]
  },
  {
   "cell_type": "code",
   "execution_count": 23,
   "metadata": {},
   "outputs": [
    {
     "name": "stdout",
     "output_type": "stream",
     "text": [
      "[[0 0 0 0 0]\n",
      " [1 0 0 0 0]\n",
      " [0 2 0 0 0]\n",
      " [0 0 3 0 0]\n",
      " [0 0 0 4 0]]\n"
     ]
    }
   ],
   "source": [
    "g=np.array([[0,0,0,0,0],[1,0,0,0,0],[0,2,0,0,0],[0,0,3,0,0],[0,0,0,4,0]])\n",
    "print(g)"
   ]
  },
  {
   "cell_type": "code",
   "execution_count": 26,
   "metadata": {},
   "outputs": [
    {
     "name": "stdout",
     "output_type": "stream",
     "text": [
      "[[1.08144161 2.96748547 1.96687528]\n",
      " [0.16435983 1.50197603 2.5141169 ]\n",
      " [1.86394696 1.46557212 2.6622827 ]\n",
      " [1.14248251 2.78132529 0.80387274]\n",
      " [1.64830154 2.62767343 2.63966704]]\n",
      "[[4.28441234 3.92284029 3.42588362 0.8969896 ]\n",
      " [1.56819324 4.22452475 3.85013524 1.25162982]\n",
      " [3.98933817 0.50927751 2.07621264 0.09847979]]\n",
      "[[17.13346307 17.78022388 19.21376478  4.87793265]\n",
      " [13.08923643  8.27027547 11.56572975  2.27493674]\n",
      " [20.90496366 14.85915268 17.55578124  3.76847585]\n",
      " [12.46344188 16.64094827 16.29150137  4.58514983]\n",
      " [21.71322762 18.91101819 21.24429736  5.02733761]]\n"
     ]
    }
   ],
   "source": [
    "A=4*np.random.rand(5,3)\n",
    "B=5*np.random.rand(3,4)\n",
    "print(A)\n",
    "print(B)\n",
    "C=np.matmul(A,B)\n",
    "print(C)"
   ]
  },
  {
   "cell_type": "code",
   "execution_count": 47,
   "metadata": {},
   "outputs": [
    {
     "name": "stdout",
     "output_type": "stream",
     "text": [
      "[[17. 17. 19.  4.]\n",
      " [13.  8. 11.  2.]\n",
      " [20. 14. 17.  3.]\n",
      " [12. 16. 16.  4.]\n",
      " [21. 18. 21.  5.]]\n",
      "[[17. 17. 19.  4.]\n",
      " [13.  8. 11.  2.]\n",
      " [20. 14. 17.  3.]\n",
      " [12. 16. 16.  4.]\n",
      " [21. 18. 21.  5.]]\n"
     ]
    }
   ],
   "source": [
    "print(np.floor(C))\n",
    "D=np.zeros(20).reshape(5,4)\n",
    "for i in np.arange(5):\n",
    "    for j in np.arange(4):\n",
    "        D[i,j]=np.floor(C[i,j])\n",
    "print(D)\n",
    "        "
   ]
  },
  {
   "cell_type": "code",
   "execution_count": 49,
   "metadata": {},
   "outputs": [
    {
     "name": "stdout",
     "output_type": "stream",
     "text": [
      "[0.05874841 0.81268518 0.487567   0.8319505  0.43983698 0.0997448\n",
      " 0.03317389 0.90071564 0.7493842  0.40996049 0.38788723 0.33852555\n",
      " 0.25189858 0.97702455 0.04788172 0.23951405 0.43730337 0.39617605\n",
      " 0.32774433 0.66245222 0.98411713 0.32523204 0.98155568 0.96534255\n",
      " 0.47069086]\n",
      "[0.03317389 0.04788172 0.05874841 0.0997448  0.23951405 0.25189858\n",
      " 0.32523204 0.32774433 0.33852555 0.38788723 0.39617605 0.40996049\n",
      " 0.43730337 0.43983698 0.47069086 0.487567   0.66245222 0.7493842\n",
      " 0.81268518 0.8319505  0.90071564 0.96534255 0.97702455 0.98155568\n",
      " 0.98411713]\n"
     ]
    }
   ],
   "source": [
    "h=np.random.rand(25)\n",
    "print(h)\n",
    "print(np.sort(h))"
   ]
  },
  {
   "cell_type": "code",
   "execution_count": 58,
   "metadata": {},
   "outputs": [
    {
     "name": "stdout",
     "output_type": "stream",
     "text": [
      "[[0.87790145 0.33147239]\n",
      " [0.96278781 0.10175489]\n",
      " [0.143861   0.29632426]\n",
      " [0.8184449  0.99732988]\n",
      " [0.97368619 0.56781734]\n",
      " [0.11122299 0.11886343]\n",
      " [0.34929813 0.91137079]]\n",
      "al  1 -lea punt de coordonate polare 0.9383948549312007 si 0.3610250413281898\n",
      "al  2 -lea punt de coordonate polare 0.9681500047233123 si 0.1052968730046119\n",
      "al  3 -lea punt de coordonate polare 0.32939953836345287 si 1.118827953685656\n",
      "al  4 -lea punt de coordonate polare 1.290162368093494 si 0.8835984483435695\n",
      "al  5 -lea punt de coordonate polare 1.1271563042835548 si 0.5279470310550153\n",
      "al  6 -lea punt de coordonate polare 0.16278534518100538 si 0.8185928345686595\n",
      "al  7 -lea punt de coordonate polare 0.9760153126405751 si 1.2047978559883883\n"
     ]
    }
   ],
   "source": [
    "E=np.random.rand(14).reshape(7,2)\n",
    "print(E)\n",
    "for i in np.arange(7):\n",
    "    rho = np.sqrt(E[i,0]**2 + E[i,1]**2)\n",
    "    phi = np.arctan2(E[i,1], E[i,0])\n",
    "    print(\"al \",i+1,\"-lea punt de coordonate polare\",rho,\"si\",phi)"
   ]
  },
  {
   "cell_type": "code",
   "execution_count": 64,
   "metadata": {},
   "outputs": [
    {
     "name": "stdout",
     "output_type": "stream",
     "text": [
      "cel mai apropiat numara de valoarea  0.8610672816261883  este  0.8630966993087468\n"
     ]
    }
   ],
   "source": [
    "F=np.random.rand(100).reshape(10,10)\n",
    "x=float(np.random.rand(1))\n",
    "m=abs(x-F[0,0])\n",
    "n=F[0,0]\n",
    "for i in np.arange(10):\n",
    "    for j in np.arange(10):\n",
    "        if abs(x-F[i,j])<m:\n",
    "            m=abs(x-F[i,j])\n",
    "            n=F[i,j]\n",
    "print(\"cel mai apropiat numara de valoarea \",x,\" este \",n)"
   ]
  },
  {
   "cell_type": "code",
   "execution_count": null,
   "metadata": {},
   "outputs": [],
   "source": []
  }
 ],
 "metadata": {
  "kernelspec": {
   "display_name": "Python 3",
   "language": "python",
   "name": "python3"
  },
  "language_info": {
   "codemirror_mode": {
    "name": "ipython",
    "version": 3
   },
   "file_extension": ".py",
   "mimetype": "text/x-python",
   "name": "python",
   "nbconvert_exporter": "python",
   "pygments_lexer": "ipython3",
   "version": "3.7.4"
  }
 },
 "nbformat": 4,
 "nbformat_minor": 2
}
